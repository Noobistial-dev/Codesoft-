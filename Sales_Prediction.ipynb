{
  "nbformat": 4,
  "nbformat_minor": 0,
  "metadata": {
    "colab": {
      "provenance": [],
      "authorship_tag": "ABX9TyNpAyW4ghbwcjfWk4sLdsPd",
      "include_colab_link": true
    },
    "kernelspec": {
      "name": "python3",
      "display_name": "Python 3"
    },
    "language_info": {
      "name": "python"
    }
  },
  "cells": [
    {
      "cell_type": "markdown",
      "metadata": {
        "id": "view-in-github",
        "colab_type": "text"
      },
      "source": [
        "<a href=\"https://colab.research.google.com/github/Navneet-singh7/CODSOFT/blob/main/Sales_price_prediction(cars).ipynb\" target=\"_parent\"><img src=\"https://colab.research.google.com/assets/colab-badge.svg\" alt=\"Open In Colab\"/></a>"
      ]
    },
    {
      "cell_type": "markdown",
      "source": [
        "**Car Sales price prediction**"
      ],
      "metadata": {
        "id": "rnCCmeVahh7D"
      }
    },
    {
      "cell_type": "markdown",
      "source": [
        "Importing the library"
      ],
      "metadata": {
        "id": "b0w8KvElh0qC"
      }
    },
    {
      "cell_type": "code",
      "source": [
        "import pandas as pd\n",
        "import numpy as np\n",
        "import matplotlib.pyplot as plt\n",
        "import seaborn as sns\n",
        "import os\n",
        "from sklearn.preprocessing import MinMaxScaler\n",
        "from sklearn.model_selection import train_test_split"
      ],
      "metadata": {
        "id": "R8R_0Tcfh589"
      },
      "execution_count": null,
      "outputs": []
    },
    {
      "cell_type": "code",
      "source": [
        "df=pd.read_csv(\"/content/car_purchasing.csv\",encoding=\"latin-1\")\n",
        "df.head()"
      ],
      "metadata": {
        "colab": {
          "base_uri": "https://localhost:8080/",
          "height": 206
        },
        "id": "T8jQHardiE7J",
        "outputId": "95f0adbd-a27e-4117-8600-0344cd249b05"
      },
      "execution_count": null,
      "outputs": [
        {
          "output_type": "execute_result",
          "data": {
            "text/plain": [
              "     customer name                                    customer e-mail  \\\n",
              "0    Martina Avila  cubilia.Curae.Phasellus@quisaccumsanconvallis.edu   \n",
              "1    Harlan Barnes                                eu.dolor@diam.co.uk   \n",
              "2  Naomi Rodriquez  vulputate.mauris.sagittis@ametconsectetueradip...   \n",
              "3  Jade Cunningham                            malesuada@dignissim.com   \n",
              "4     Cedric Leach     felis.ullamcorper.viverra@egetmollislectus.net   \n",
              "\n",
              "        country  gender        age  annual Salary  credit card debt  \\\n",
              "0      Bulgaria       0  41.851720    62812.09301      11609.380910   \n",
              "1        Belize       0  40.870623    66646.89292       9572.957136   \n",
              "2       Algeria       1  43.152897    53798.55112      11160.355060   \n",
              "3  Cook Islands       1  58.271369    79370.03798      14426.164850   \n",
              "4        Brazil       1  57.313749    59729.15130       5358.712177   \n",
              "\n",
              "     net worth  car purchase amount  \n",
              "0  238961.2505          35321.45877  \n",
              "1  530973.9078          45115.52566  \n",
              "2  638467.1773          42925.70921  \n",
              "3  548599.0524          67422.36313  \n",
              "4  560304.0671          55915.46248  "
            ],
            "text/html": [
              "\n",
              "  <div id=\"df-fc585b73-c0e4-4a5d-bfec-6d322e11b68b\" class=\"colab-df-container\">\n",
              "    <div>\n",
              "<style scoped>\n",
              "    .dataframe tbody tr th:only-of-type {\n",
              "        vertical-align: middle;\n",
              "    }\n",
              "\n",
              "    .dataframe tbody tr th {\n",
              "        vertical-align: top;\n",
              "    }\n",
              "\n",
              "    .dataframe thead th {\n",
              "        text-align: right;\n",
              "    }\n",
              "</style>\n",
              "<table border=\"1\" class=\"dataframe\">\n",
              "  <thead>\n",
              "    <tr style=\"text-align: right;\">\n",
              "      <th></th>\n",
              "      <th>customer name</th>\n",
              "      <th>customer e-mail</th>\n",
              "      <th>country</th>\n",
              "      <th>gender</th>\n",
              "      <th>age</th>\n",
              "      <th>annual Salary</th>\n",
              "      <th>credit card debt</th>\n",
              "      <th>net worth</th>\n",
              "      <th>car purchase amount</th>\n",
              "    </tr>\n",
              "  </thead>\n",
              "  <tbody>\n",
              "    <tr>\n",
              "      <th>0</th>\n",
              "      <td>Martina Avila</td>\n",
              "      <td>cubilia.Curae.Phasellus@quisaccumsanconvallis.edu</td>\n",
              "      <td>Bulgaria</td>\n",
              "      <td>0</td>\n",
              "      <td>41.851720</td>\n",
              "      <td>62812.09301</td>\n",
              "      <td>11609.380910</td>\n",
              "      <td>238961.2505</td>\n",
              "      <td>35321.45877</td>\n",
              "    </tr>\n",
              "    <tr>\n",
              "      <th>1</th>\n",
              "      <td>Harlan Barnes</td>\n",
              "      <td>eu.dolor@diam.co.uk</td>\n",
              "      <td>Belize</td>\n",
              "      <td>0</td>\n",
              "      <td>40.870623</td>\n",
              "      <td>66646.89292</td>\n",
              "      <td>9572.957136</td>\n",
              "      <td>530973.9078</td>\n",
              "      <td>45115.52566</td>\n",
              "    </tr>\n",
              "    <tr>\n",
              "      <th>2</th>\n",
              "      <td>Naomi Rodriquez</td>\n",
              "      <td>vulputate.mauris.sagittis@ametconsectetueradip...</td>\n",
              "      <td>Algeria</td>\n",
              "      <td>1</td>\n",
              "      <td>43.152897</td>\n",
              "      <td>53798.55112</td>\n",
              "      <td>11160.355060</td>\n",
              "      <td>638467.1773</td>\n",
              "      <td>42925.70921</td>\n",
              "    </tr>\n",
              "    <tr>\n",
              "      <th>3</th>\n",
              "      <td>Jade Cunningham</td>\n",
              "      <td>malesuada@dignissim.com</td>\n",
              "      <td>Cook Islands</td>\n",
              "      <td>1</td>\n",
              "      <td>58.271369</td>\n",
              "      <td>79370.03798</td>\n",
              "      <td>14426.164850</td>\n",
              "      <td>548599.0524</td>\n",
              "      <td>67422.36313</td>\n",
              "    </tr>\n",
              "    <tr>\n",
              "      <th>4</th>\n",
              "      <td>Cedric Leach</td>\n",
              "      <td>felis.ullamcorper.viverra@egetmollislectus.net</td>\n",
              "      <td>Brazil</td>\n",
              "      <td>1</td>\n",
              "      <td>57.313749</td>\n",
              "      <td>59729.15130</td>\n",
              "      <td>5358.712177</td>\n",
              "      <td>560304.0671</td>\n",
              "      <td>55915.46248</td>\n",
              "    </tr>\n",
              "  </tbody>\n",
              "</table>\n",
              "</div>\n",
              "    <div class=\"colab-df-buttons\">\n",
              "\n",
              "  <div class=\"colab-df-container\">\n",
              "    <button class=\"colab-df-convert\" onclick=\"convertToInteractive('df-fc585b73-c0e4-4a5d-bfec-6d322e11b68b')\"\n",
              "            title=\"Convert this dataframe to an interactive table.\"\n",
              "            style=\"display:none;\">\n",
              "\n",
              "  <svg xmlns=\"http://www.w3.org/2000/svg\" height=\"24px\" viewBox=\"0 -960 960 960\">\n",
              "    <path d=\"M120-120v-720h720v720H120Zm60-500h600v-160H180v160Zm220 220h160v-160H400v160Zm0 220h160v-160H400v160ZM180-400h160v-160H180v160Zm440 0h160v-160H620v160ZM180-180h160v-160H180v160Zm440 0h160v-160H620v160Z\"/>\n",
              "  </svg>\n",
              "    </button>\n",
              "\n",
              "  <style>\n",
              "    .colab-df-container {\n",
              "      display:flex;\n",
              "      gap: 12px;\n",
              "    }\n",
              "\n",
              "    .colab-df-convert {\n",
              "      background-color: #E8F0FE;\n",
              "      border: none;\n",
              "      border-radius: 50%;\n",
              "      cursor: pointer;\n",
              "      display: none;\n",
              "      fill: #1967D2;\n",
              "      height: 32px;\n",
              "      padding: 0 0 0 0;\n",
              "      width: 32px;\n",
              "    }\n",
              "\n",
              "    .colab-df-convert:hover {\n",
              "      background-color: #E2EBFA;\n",
              "      box-shadow: 0px 1px 2px rgba(60, 64, 67, 0.3), 0px 1px 3px 1px rgba(60, 64, 67, 0.15);\n",
              "      fill: #174EA6;\n",
              "    }\n",
              "\n",
              "    .colab-df-buttons div {\n",
              "      margin-bottom: 4px;\n",
              "    }\n",
              "\n",
              "    [theme=dark] .colab-df-convert {\n",
              "      background-color: #3B4455;\n",
              "      fill: #D2E3FC;\n",
              "    }\n",
              "\n",
              "    [theme=dark] .colab-df-convert:hover {\n",
              "      background-color: #434B5C;\n",
              "      box-shadow: 0px 1px 3px 1px rgba(0, 0, 0, 0.15);\n",
              "      filter: drop-shadow(0px 1px 2px rgba(0, 0, 0, 0.3));\n",
              "      fill: #FFFFFF;\n",
              "    }\n",
              "  </style>\n",
              "\n",
              "    <script>\n",
              "      const buttonEl =\n",
              "        document.querySelector('#df-fc585b73-c0e4-4a5d-bfec-6d322e11b68b button.colab-df-convert');\n",
              "      buttonEl.style.display =\n",
              "        google.colab.kernel.accessAllowed ? 'block' : 'none';\n",
              "\n",
              "      async function convertToInteractive(key) {\n",
              "        const element = document.querySelector('#df-fc585b73-c0e4-4a5d-bfec-6d322e11b68b');\n",
              "        const dataTable =\n",
              "          await google.colab.kernel.invokeFunction('convertToInteractive',\n",
              "                                                    [key], {});\n",
              "        if (!dataTable) return;\n",
              "\n",
              "        const docLinkHtml = 'Like what you see? Visit the ' +\n",
              "          '<a target=\"_blank\" href=https://colab.research.google.com/notebooks/data_table.ipynb>data table notebook</a>'\n",
              "          + ' to learn more about interactive tables.';\n",
              "        element.innerHTML = '';\n",
              "        dataTable['output_type'] = 'display_data';\n",
              "        await google.colab.output.renderOutput(dataTable, element);\n",
              "        const docLink = document.createElement('div');\n",
              "        docLink.innerHTML = docLinkHtml;\n",
              "        element.appendChild(docLink);\n",
              "      }\n",
              "    </script>\n",
              "  </div>\n",
              "\n",
              "\n",
              "<div id=\"df-396f71e2-9815-4e63-94db-ceae39e5a2c4\">\n",
              "  <button class=\"colab-df-quickchart\" onclick=\"quickchart('df-396f71e2-9815-4e63-94db-ceae39e5a2c4')\"\n",
              "            title=\"Suggest charts.\"\n",
              "            style=\"display:none;\">\n",
              "\n",
              "<svg xmlns=\"http://www.w3.org/2000/svg\" height=\"24px\"viewBox=\"0 0 24 24\"\n",
              "     width=\"24px\">\n",
              "    <g>\n",
              "        <path d=\"M19 3H5c-1.1 0-2 .9-2 2v14c0 1.1.9 2 2 2h14c1.1 0 2-.9 2-2V5c0-1.1-.9-2-2-2zM9 17H7v-7h2v7zm4 0h-2V7h2v10zm4 0h-2v-4h2v4z\"/>\n",
              "    </g>\n",
              "</svg>\n",
              "  </button>\n",
              "\n",
              "<style>\n",
              "  .colab-df-quickchart {\n",
              "      --bg-color: #E8F0FE;\n",
              "      --fill-color: #1967D2;\n",
              "      --hover-bg-color: #E2EBFA;\n",
              "      --hover-fill-color: #174EA6;\n",
              "      --disabled-fill-color: #AAA;\n",
              "      --disabled-bg-color: #DDD;\n",
              "  }\n",
              "\n",
              "  [theme=dark] .colab-df-quickchart {\n",
              "      --bg-color: #3B4455;\n",
              "      --fill-color: #D2E3FC;\n",
              "      --hover-bg-color: #434B5C;\n",
              "      --hover-fill-color: #FFFFFF;\n",
              "      --disabled-bg-color: #3B4455;\n",
              "      --disabled-fill-color: #666;\n",
              "  }\n",
              "\n",
              "  .colab-df-quickchart {\n",
              "    background-color: var(--bg-color);\n",
              "    border: none;\n",
              "    border-radius: 50%;\n",
              "    cursor: pointer;\n",
              "    display: none;\n",
              "    fill: var(--fill-color);\n",
              "    height: 32px;\n",
              "    padding: 0;\n",
              "    width: 32px;\n",
              "  }\n",
              "\n",
              "  .colab-df-quickchart:hover {\n",
              "    background-color: var(--hover-bg-color);\n",
              "    box-shadow: 0 1px 2px rgba(60, 64, 67, 0.3), 0 1px 3px 1px rgba(60, 64, 67, 0.15);\n",
              "    fill: var(--button-hover-fill-color);\n",
              "  }\n",
              "\n",
              "  .colab-df-quickchart-complete:disabled,\n",
              "  .colab-df-quickchart-complete:disabled:hover {\n",
              "    background-color: var(--disabled-bg-color);\n",
              "    fill: var(--disabled-fill-color);\n",
              "    box-shadow: none;\n",
              "  }\n",
              "\n",
              "  .colab-df-spinner {\n",
              "    border: 2px solid var(--fill-color);\n",
              "    border-color: transparent;\n",
              "    border-bottom-color: var(--fill-color);\n",
              "    animation:\n",
              "      spin 1s steps(1) infinite;\n",
              "  }\n",
              "\n",
              "  @keyframes spin {\n",
              "    0% {\n",
              "      border-color: transparent;\n",
              "      border-bottom-color: var(--fill-color);\n",
              "      border-left-color: var(--fill-color);\n",
              "    }\n",
              "    20% {\n",
              "      border-color: transparent;\n",
              "      border-left-color: var(--fill-color);\n",
              "      border-top-color: var(--fill-color);\n",
              "    }\n",
              "    30% {\n",
              "      border-color: transparent;\n",
              "      border-left-color: var(--fill-color);\n",
              "      border-top-color: var(--fill-color);\n",
              "      border-right-color: var(--fill-color);\n",
              "    }\n",
              "    40% {\n",
              "      border-color: transparent;\n",
              "      border-right-color: var(--fill-color);\n",
              "      border-top-color: var(--fill-color);\n",
              "    }\n",
              "    60% {\n",
              "      border-color: transparent;\n",
              "      border-right-color: var(--fill-color);\n",
              "    }\n",
              "    80% {\n",
              "      border-color: transparent;\n",
              "      border-right-color: var(--fill-color);\n",
              "      border-bottom-color: var(--fill-color);\n",
              "    }\n",
              "    90% {\n",
              "      border-color: transparent;\n",
              "      border-bottom-color: var(--fill-color);\n",
              "    }\n",
              "  }\n",
              "</style>\n",
              "\n",
              "  <script>\n",
              "    async function quickchart(key) {\n",
              "      const quickchartButtonEl =\n",
              "        document.querySelector('#' + key + ' button');\n",
              "      quickchartButtonEl.disabled = true;  // To prevent multiple clicks.\n",
              "      quickchartButtonEl.classList.add('colab-df-spinner');\n",
              "      try {\n",
              "        const charts = await google.colab.kernel.invokeFunction(\n",
              "            'suggestCharts', [key], {});\n",
              "      } catch (error) {\n",
              "        console.error('Error during call to suggestCharts:', error);\n",
              "      }\n",
              "      quickchartButtonEl.classList.remove('colab-df-spinner');\n",
              "      quickchartButtonEl.classList.add('colab-df-quickchart-complete');\n",
              "    }\n",
              "    (() => {\n",
              "      let quickchartButtonEl =\n",
              "        document.querySelector('#df-396f71e2-9815-4e63-94db-ceae39e5a2c4 button');\n",
              "      quickchartButtonEl.style.display =\n",
              "        google.colab.kernel.accessAllowed ? 'block' : 'none';\n",
              "    })();\n",
              "  </script>\n",
              "</div>\n",
              "    </div>\n",
              "  </div>\n"
            ]
          },
          "metadata": {},
          "execution_count": 13
        }
      ]
    },
    {
      "cell_type": "code",
      "source": [
        "df.drop(columns=['customer name','customer e-mail','country','gender'],inplace=True)"
      ],
      "metadata": {
        "id": "TogiH83biOwt"
      },
      "execution_count": null,
      "outputs": []
    },
    {
      "cell_type": "code",
      "source": [
        "x=df.drop(columns='car purchase amount')\n",
        "y=df['car purchase amount']"
      ],
      "metadata": {
        "id": "ALsUk_whildb"
      },
      "execution_count": null,
      "outputs": []
    },
    {
      "cell_type": "markdown",
      "source": [
        "Data Preprocessing"
      ],
      "metadata": {
        "id": "06von0vWixtY"
      }
    },
    {
      "cell_type": "code",
      "source": [
        "scaler=MinMaxScaler()\n",
        "x=scaler.fit_transform(x)\n",
        "y=scaler.fit_transform(y.values.reshape(-1,1))"
      ],
      "metadata": {
        "id": "HwZ2SXw8iq0R"
      },
      "execution_count": null,
      "outputs": []
    },
    {
      "cell_type": "code",
      "source": [
        "x_train,x_test,y_train,y_test = train_test_split(x,y,test_size=0.20,random_state=0)"
      ],
      "metadata": {
        "id": "5JkiW171i62Q"
      },
      "execution_count": null,
      "outputs": []
    },
    {
      "cell_type": "markdown",
      "source": [
        "ANN Model"
      ],
      "metadata": {
        "id": "0yfo2gjsjQvq"
      }
    },
    {
      "cell_type": "code",
      "source": [
        "import tensorflow.keras\n",
        "from tensorflow.keras.models import Sequential\n",
        "from tensorflow.keras.layers import Dense"
      ],
      "metadata": {
        "id": "6BJWn8FDjIw-"
      },
      "execution_count": null,
      "outputs": []
    },
    {
      "cell_type": "code",
      "source": [
        "model=Sequential()\n",
        "model.add(Dense(10,activation='relu',input_dim=4))\n",
        "model.add(Dense(10,activation='relu'))\n",
        "model.add(Dense(1,activation='linear'))\n",
        "\n",
        "model.summary()"
      ],
      "metadata": {
        "colab": {
          "base_uri": "https://localhost:8080/"
        },
        "id": "Tir4UBX_jVAc",
        "outputId": "d574a99c-7b1e-4e0e-f360-81107462769b"
      },
      "execution_count": null,
      "outputs": [
        {
          "output_type": "stream",
          "name": "stdout",
          "text": [
            "Model: \"sequential\"\n",
            "_________________________________________________________________\n",
            " Layer (type)                Output Shape              Param #   \n",
            "=================================================================\n",
            " dense (Dense)               (None, 10)                50        \n",
            "                                                                 \n",
            " dense_1 (Dense)             (None, 10)                110       \n",
            "                                                                 \n",
            " dense_2 (Dense)             (None, 1)                 11        \n",
            "                                                                 \n",
            "=================================================================\n",
            "Total params: 171 (684.00 Byte)\n",
            "Trainable params: 171 (684.00 Byte)\n",
            "Non-trainable params: 0 (0.00 Byte)\n",
            "_________________________________________________________________\n"
          ]
        }
      ]
    },
    {
      "cell_type": "code",
      "source": [
        "model.compile(optimizer='adam',loss='mean_squared_error')#,metrics=['mean_absolute_error'])\n",
        "\n",
        "history=model.fit(x_train,y_train,epochs=50,validation_split=0.2)\n"
      ],
      "metadata": {
        "colab": {
          "base_uri": "https://localhost:8080/"
        },
        "id": "TajRo5UfjZbN",
        "outputId": "d711f04b-a0a3-4aff-ddd3-2e62223c6303"
      },
      "execution_count": null,
      "outputs": [
        {
          "output_type": "stream",
          "name": "stdout",
          "text": [
            "Epoch 1/50\n",
            "10/10 [==============================] - 1s 19ms/step - loss: 0.1729 - val_loss: 0.1208\n",
            "Epoch 2/50\n",
            "10/10 [==============================] - 0s 4ms/step - loss: 0.0674 - val_loss: 0.0450\n",
            "Epoch 3/50\n",
            "10/10 [==============================] - 0s 5ms/step - loss: 0.0301 - val_loss: 0.0279\n",
            "Epoch 4/50\n",
            "10/10 [==============================] - 0s 6ms/step - loss: 0.0264 - val_loss: 0.0250\n",
            "Epoch 5/50\n",
            "10/10 [==============================] - 0s 5ms/step - loss: 0.0223 - val_loss: 0.0207\n",
            "Epoch 6/50\n",
            "10/10 [==============================] - 0s 6ms/step - loss: 0.0174 - val_loss: 0.0187\n",
            "Epoch 7/50\n",
            "10/10 [==============================] - 0s 6ms/step - loss: 0.0148 - val_loss: 0.0167\n",
            "Epoch 8/50\n",
            "10/10 [==============================] - 0s 4ms/step - loss: 0.0125 - val_loss: 0.0141\n",
            "Epoch 9/50\n",
            "10/10 [==============================] - 0s 4ms/step - loss: 0.0106 - val_loss: 0.0120\n",
            "Epoch 10/50\n",
            "10/10 [==============================] - 0s 5ms/step - loss: 0.0092 - val_loss: 0.0106\n",
            "Epoch 11/50\n",
            "10/10 [==============================] - 0s 5ms/step - loss: 0.0079 - val_loss: 0.0092\n",
            "Epoch 12/50\n",
            "10/10 [==============================] - 0s 5ms/step - loss: 0.0069 - val_loss: 0.0083\n",
            "Epoch 13/50\n",
            "10/10 [==============================] - 0s 7ms/step - loss: 0.0062 - val_loss: 0.0074\n",
            "Epoch 14/50\n",
            "10/10 [==============================] - 0s 7ms/step - loss: 0.0056 - val_loss: 0.0067\n",
            "Epoch 15/50\n",
            "10/10 [==============================] - 0s 7ms/step - loss: 0.0051 - val_loss: 0.0060\n",
            "Epoch 16/50\n",
            "10/10 [==============================] - 0s 5ms/step - loss: 0.0046 - val_loss: 0.0056\n",
            "Epoch 17/50\n",
            "10/10 [==============================] - 0s 5ms/step - loss: 0.0042 - val_loss: 0.0051\n",
            "Epoch 18/50\n",
            "10/10 [==============================] - 0s 4ms/step - loss: 0.0038 - val_loss: 0.0047\n",
            "Epoch 19/50\n",
            "10/10 [==============================] - 0s 6ms/step - loss: 0.0036 - val_loss: 0.0044\n",
            "Epoch 20/50\n",
            "10/10 [==============================] - 0s 5ms/step - loss: 0.0033 - val_loss: 0.0040\n",
            "Epoch 21/50\n",
            "10/10 [==============================] - 0s 6ms/step - loss: 0.0030 - val_loss: 0.0039\n",
            "Epoch 22/50\n",
            "10/10 [==============================] - 0s 6ms/step - loss: 0.0028 - val_loss: 0.0034\n",
            "Epoch 23/50\n",
            "10/10 [==============================] - 0s 5ms/step - loss: 0.0025 - val_loss: 0.0033\n",
            "Epoch 24/50\n",
            "10/10 [==============================] - 0s 5ms/step - loss: 0.0024 - val_loss: 0.0030\n",
            "Epoch 25/50\n",
            "10/10 [==============================] - 0s 6ms/step - loss: 0.0022 - val_loss: 0.0028\n",
            "Epoch 26/50\n",
            "10/10 [==============================] - 0s 6ms/step - loss: 0.0020 - val_loss: 0.0026\n",
            "Epoch 27/50\n",
            "10/10 [==============================] - 0s 5ms/step - loss: 0.0018 - val_loss: 0.0024\n",
            "Epoch 28/50\n",
            "10/10 [==============================] - 0s 4ms/step - loss: 0.0017 - val_loss: 0.0023\n",
            "Epoch 29/50\n",
            "10/10 [==============================] - 0s 5ms/step - loss: 0.0016 - val_loss: 0.0020\n",
            "Epoch 30/50\n",
            "10/10 [==============================] - 0s 6ms/step - loss: 0.0014 - val_loss: 0.0021\n",
            "Epoch 31/50\n",
            "10/10 [==============================] - 0s 4ms/step - loss: 0.0013 - val_loss: 0.0017\n",
            "Epoch 32/50\n",
            "10/10 [==============================] - 0s 6ms/step - loss: 0.0012 - val_loss: 0.0017\n",
            "Epoch 33/50\n",
            "10/10 [==============================] - 0s 6ms/step - loss: 0.0011 - val_loss: 0.0016\n",
            "Epoch 34/50\n",
            "10/10 [==============================] - 0s 6ms/step - loss: 0.0011 - val_loss: 0.0014\n",
            "Epoch 35/50\n",
            "10/10 [==============================] - 0s 4ms/step - loss: 9.6863e-04 - val_loss: 0.0014\n",
            "Epoch 36/50\n",
            "10/10 [==============================] - 0s 4ms/step - loss: 9.0351e-04 - val_loss: 0.0013\n",
            "Epoch 37/50\n",
            "10/10 [==============================] - 0s 7ms/step - loss: 8.5288e-04 - val_loss: 0.0012\n",
            "Epoch 38/50\n",
            "10/10 [==============================] - 0s 6ms/step - loss: 7.9224e-04 - val_loss: 0.0012\n",
            "Epoch 39/50\n",
            "10/10 [==============================] - 0s 7ms/step - loss: 7.5591e-04 - val_loss: 0.0010\n",
            "Epoch 40/50\n",
            "10/10 [==============================] - 0s 5ms/step - loss: 7.1459e-04 - val_loss: 9.8398e-04\n",
            "Epoch 41/50\n",
            "10/10 [==============================] - 0s 7ms/step - loss: 6.8454e-04 - val_loss: 0.0011\n",
            "Epoch 42/50\n",
            "10/10 [==============================] - 0s 5ms/step - loss: 6.6423e-04 - val_loss: 8.5886e-04\n",
            "Epoch 43/50\n",
            "10/10 [==============================] - 0s 6ms/step - loss: 5.9651e-04 - val_loss: 8.9886e-04\n",
            "Epoch 44/50\n",
            "10/10 [==============================] - 0s 6ms/step - loss: 5.6969e-04 - val_loss: 8.1551e-04\n",
            "Epoch 45/50\n",
            "10/10 [==============================] - 0s 4ms/step - loss: 5.6262e-04 - val_loss: 7.4959e-04\n",
            "Epoch 46/50\n",
            "10/10 [==============================] - 0s 4ms/step - loss: 5.2035e-04 - val_loss: 8.6258e-04\n",
            "Epoch 47/50\n",
            "10/10 [==============================] - 0s 6ms/step - loss: 4.9453e-04 - val_loss: 6.6633e-04\n",
            "Epoch 48/50\n",
            "10/10 [==============================] - 0s 3ms/step - loss: 4.8816e-04 - val_loss: 7.4312e-04\n",
            "Epoch 49/50\n",
            "10/10 [==============================] - 0s 3ms/step - loss: 4.5946e-04 - val_loss: 6.7892e-04\n",
            "Epoch 50/50\n",
            "10/10 [==============================] - 0s 4ms/step - loss: 4.3876e-04 - val_loss: 6.0148e-04\n"
          ]
        }
      ]
    },
    {
      "cell_type": "markdown",
      "source": [
        "Prediction"
      ],
      "metadata": {
        "id": "zHx1O-yqj2am"
      }
    },
    {
      "cell_type": "code",
      "source": [
        "y_pred=model.predict(x_test)"
      ],
      "metadata": {
        "colab": {
          "base_uri": "https://localhost:8080/"
        },
        "id": "m5Ofwv4ejeGi",
        "outputId": "7b09e314-b344-4476-e91a-6824dca0ecd9"
      },
      "execution_count": null,
      "outputs": [
        {
          "output_type": "stream",
          "name": "stdout",
          "text": [
            "4/4 [==============================] - 0s 3ms/step\n"
          ]
        }
      ]
    },
    {
      "cell_type": "markdown",
      "source": [
        "R2 score"
      ],
      "metadata": {
        "id": "kiSWgRHYjzKh"
      }
    },
    {
      "cell_type": "code",
      "source": [
        "from sklearn.metrics import r2_score\n",
        "R2 = r2_score(y_test, y_pred)\n",
        "print(\"R2 =\",R2 )"
      ],
      "metadata": {
        "colab": {
          "base_uri": "https://localhost:8080/"
        },
        "id": "MgYBd1R3jrbt",
        "outputId": "52ac5b8b-d2c4-4090-9c1c-44f64ca4fc62"
      },
      "execution_count": null,
      "outputs": [
        {
          "output_type": "stream",
          "name": "stdout",
          "text": [
            "R2 = 0.9687591965420747\n"
          ]
        }
      ]
    }
  ]
}